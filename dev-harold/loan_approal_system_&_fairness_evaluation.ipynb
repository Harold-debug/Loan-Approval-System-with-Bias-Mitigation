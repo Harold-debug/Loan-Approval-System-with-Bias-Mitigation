{
 "cells": [
  {
   "cell_type": "code",
   "execution_count": 1,
   "metadata": {},
   "outputs": [
    {
     "name": "stderr",
     "output_type": "stream",
     "text": [
      "WARNING:root:No module named 'fairlearn': ExponentiatedGradientReduction will be unavailable. To install, run:\n",
      "pip install 'aif360[Reductions]'\n",
      "WARNING:root:No module named 'fairlearn': GridSearchReduction will be unavailable. To install, run:\n",
      "pip install 'aif360[Reductions]'\n",
      "WARNING:root:No module named 'inFairness': SenSeI and SenSR will be unavailable. To install, run:\n",
      "pip install 'aif360[inFairness]'\n",
      "WARNING:root:No module named 'fairlearn': GridSearchReduction will be unavailable. To install, run:\n",
      "pip install 'aif360[Reductions]'\n"
     ]
    }
   ],
   "source": [
    "import pandas as pd\n",
    "import numpy as np\n",
    "import matplotlib.pyplot as plt\n",
    "import seaborn as sns\n",
    "from sklearn.model_selection import train_test_split\n",
    "from sklearn.preprocessing import LabelEncoder, MinMaxScaler\n",
    "from sklearn.linear_model import LogisticRegression\n",
    "from sklearn.metrics import accuracy_score, classification_report\n",
    "from aif360.datasets import BinaryLabelDataset\n",
    "from aif360.metrics import BinaryLabelDatasetMetric\n",
    "from aif360.algorithms.preprocessing import Reweighing\n",
    "from aif360.algorithms.inprocessing import AdversarialDebiasing\n",
    "from aif360.algorithms.postprocessing import CalibratedEqOddsPostprocessing\n",
    "from sklearn.preprocessing import LabelEncoder\n",
    "import dalex as dx\n",
    "from dalex.fairness import resample\n",
    "from dalex.fairness import roc_pivot\n",
    "import tensorflow.compat.v1 as tf\n",
    "\n",
    "# Disable eager execution for Adversarial Debiasing\n",
    "tf.disable_eager_execution()\n",
    "\n",
    "# Display output in notebook\n",
    "%matplotlib inline"
   ]
  },
  {
   "cell_type": "code",
   "execution_count": 2,
   "metadata": {},
   "outputs": [
    {
     "name": "stdout",
     "output_type": "stream",
     "text": [
      "Dataset Shape: (614, 13)\n",
      "Dataset Columns: Index(['Loan_ID', 'Gender', 'Married', 'Dependents', 'Education',\n",
      "       'Self_Employed', 'ApplicantIncome', 'CoapplicantIncome', 'LoanAmount',\n",
      "       'Loan_Amount_Term', 'Credit_History', 'Property_Area', 'Loan_Status'],\n",
      "      dtype='object')\n",
      "    Loan_ID Gender Married Dependents     Education Self_Employed  \\\n",
      "0  LP001002   Male      No          0      Graduate            No   \n",
      "1  LP001003   Male     Yes          1      Graduate            No   \n",
      "2  LP001005   Male     Yes          0      Graduate           Yes   \n",
      "3  LP001006   Male     Yes          0  Not Graduate            No   \n",
      "4  LP001008   Male      No          0      Graduate            No   \n",
      "\n",
      "   ApplicantIncome  CoapplicantIncome  LoanAmount  Loan_Amount_Term  \\\n",
      "0             5849                0.0         NaN             360.0   \n",
      "1             4583             1508.0       128.0             360.0   \n",
      "2             3000                0.0        66.0             360.0   \n",
      "3             2583             2358.0       120.0             360.0   \n",
      "4             6000                0.0       141.0             360.0   \n",
      "\n",
      "   Credit_History Property_Area Loan_Status  \n",
      "0             1.0         Urban           Y  \n",
      "1             1.0         Rural           N  \n",
      "2             1.0         Urban           Y  \n",
      "3             1.0         Urban           Y  \n",
      "4             1.0         Urban           Y  \n",
      "Loan_ID               0\n",
      "Gender               13\n",
      "Married               3\n",
      "Dependents           15\n",
      "Education             0\n",
      "Self_Employed        32\n",
      "ApplicantIncome       0\n",
      "CoapplicantIncome     0\n",
      "LoanAmount           22\n",
      "Loan_Amount_Term     14\n",
      "Credit_History       50\n",
      "Property_Area         0\n",
      "Loan_Status           0\n",
      "dtype: int64\n"
     ]
    }
   ],
   "source": [
    "# Load and Explore Dataset\n",
    "# Load the dataset\n",
    "file_path = 'project-data.csv'  # Replace with your file path\n",
    "data = pd.read_csv(file_path)\n",
    "\n",
    "# Display dataset info\n",
    "print(\"Dataset Shape:\", data.shape)\n",
    "print(\"Dataset Columns:\", data.columns)\n",
    "print(data.head())\n",
    "print(data.isnull().sum())"
   ]
  },
  {
   "cell_type": "code",
   "execution_count": 3,
   "metadata": {},
   "outputs": [
    {
     "data": {
      "text/plain": [
       "{'Shape': (614, 13),\n",
       " 'Columns': ['Loan_ID',\n",
       "  'Gender',\n",
       "  'Married',\n",
       "  'Dependents',\n",
       "  'Education',\n",
       "  'Self_Employed',\n",
       "  'ApplicantIncome',\n",
       "  'CoapplicantIncome',\n",
       "  'LoanAmount',\n",
       "  'Loan_Amount_Term',\n",
       "  'Credit_History',\n",
       "  'Property_Area',\n",
       "  'Loan_Status'],\n",
       " 'Data Types': {'Loan_ID': dtype('O'),\n",
       "  'Gender': dtype('O'),\n",
       "  'Married': dtype('O'),\n",
       "  'Dependents': dtype('O'),\n",
       "  'Education': dtype('O'),\n",
       "  'Self_Employed': dtype('O'),\n",
       "  'ApplicantIncome': dtype('int64'),\n",
       "  'CoapplicantIncome': dtype('float64'),\n",
       "  'LoanAmount': dtype('float64'),\n",
       "  'Loan_Amount_Term': dtype('float64'),\n",
       "  'Credit_History': dtype('float64'),\n",
       "  'Property_Area': dtype('O'),\n",
       "  'Loan_Status': dtype('O')},\n",
       " 'Missing Values': {'Loan_ID': 0,\n",
       "  'Gender': 13,\n",
       "  'Married': 3,\n",
       "  'Dependents': 15,\n",
       "  'Education': 0,\n",
       "  'Self_Employed': 32,\n",
       "  'ApplicantIncome': 0,\n",
       "  'CoapplicantIncome': 0,\n",
       "  'LoanAmount': 22,\n",
       "  'Loan_Amount_Term': 14,\n",
       "  'Credit_History': 50,\n",
       "  'Property_Area': 0,\n",
       "  'Loan_Status': 0},\n",
       " 'First Few Rows': {'Loan_ID': {0: 'LP001002',\n",
       "   1: 'LP001003',\n",
       "   2: 'LP001005',\n",
       "   3: 'LP001006',\n",
       "   4: 'LP001008'},\n",
       "  'Gender': {0: 'Male', 1: 'Male', 2: 'Male', 3: 'Male', 4: 'Male'},\n",
       "  'Married': {0: 'No', 1: 'Yes', 2: 'Yes', 3: 'Yes', 4: 'No'},\n",
       "  'Dependents': {0: '0', 1: '1', 2: '0', 3: '0', 4: '0'},\n",
       "  'Education': {0: 'Graduate',\n",
       "   1: 'Graduate',\n",
       "   2: 'Graduate',\n",
       "   3: 'Not Graduate',\n",
       "   4: 'Graduate'},\n",
       "  'Self_Employed': {0: 'No', 1: 'No', 2: 'Yes', 3: 'No', 4: 'No'},\n",
       "  'ApplicantIncome': {0: 5849, 1: 4583, 2: 3000, 3: 2583, 4: 6000},\n",
       "  'CoapplicantIncome': {0: 0.0, 1: 1508.0, 2: 0.0, 3: 2358.0, 4: 0.0},\n",
       "  'LoanAmount': {0: nan, 1: 128.0, 2: 66.0, 3: 120.0, 4: 141.0},\n",
       "  'Loan_Amount_Term': {0: 360.0, 1: 360.0, 2: 360.0, 3: 360.0, 4: 360.0},\n",
       "  'Credit_History': {0: 1.0, 1: 1.0, 2: 1.0, 3: 1.0, 4: 1.0},\n",
       "  'Property_Area': {0: 'Urban',\n",
       "   1: 'Rural',\n",
       "   2: 'Urban',\n",
       "   3: 'Urban',\n",
       "   4: 'Urban'},\n",
       "  'Loan_Status': {0: 'Y', 1: 'N', 2: 'Y', 3: 'Y', 4: 'Y'}}}"
      ]
     },
     "execution_count": 3,
     "metadata": {},
     "output_type": "execute_result"
    }
   ],
   "source": [
    "data_info = {\n",
    "    \"Shape\": data.shape,\n",
    "    \"Columns\": data.columns.tolist(),\n",
    "    \"Data Types\": data.dtypes.to_dict(),\n",
    "    \"Missing Values\": data.isnull().sum().to_dict(),\n",
    "    \"First Few Rows\": data.head().to_dict()\n",
    "}\n",
    "\n",
    "data_info"
   ]
  },
  {
   "cell_type": "code",
   "execution_count": 4,
   "metadata": {},
   "outputs": [
    {
     "name": "stdout",
     "output_type": "stream",
     "text": [
      "Missing Values After Cleaning:\n",
      " Loan_ID              0\n",
      "Gender               0\n",
      "Married              0\n",
      "Dependents           0\n",
      "Education            0\n",
      "Self_Employed        0\n",
      "ApplicantIncome      0\n",
      "CoapplicantIncome    0\n",
      "LoanAmount           0\n",
      "Loan_Amount_Term     0\n",
      "Credit_History       0\n",
      "Property_Area        0\n",
      "Loan_Status          0\n",
      "dtype: int64\n",
      "Data preparation completed.\n",
      "Sensitive attributes: ['Gender', 'Married', 'Education', 'Self_Employed', 'Property_Area', 'Dependents']\n"
     ]
    },
    {
     "name": "stderr",
     "output_type": "stream",
     "text": [
      "/var/folders/v7/_1xlyqvs26z81fbvft3w9tlr0000gn/T/ipykernel_93365/2384213584.py:5: FutureWarning: A value is trying to be set on a copy of a DataFrame or Series through chained assignment using an inplace method.\n",
      "The behavior will change in pandas 3.0. This inplace method will never work because the intermediate object on which we are setting values always behaves as a copy.\n",
      "\n",
      "For example, when doing 'df[col].method(value, inplace=True)', try using 'df.method({col: value}, inplace=True)' or df[col] = df[col].method(value) instead, to perform the operation inplace on the original object.\n",
      "\n",
      "\n",
      "  data['Gender'].fillna(data['Gender'].mode()[0], inplace=True)\n",
      "/var/folders/v7/_1xlyqvs26z81fbvft3w9tlr0000gn/T/ipykernel_93365/2384213584.py:6: FutureWarning: A value is trying to be set on a copy of a DataFrame or Series through chained assignment using an inplace method.\n",
      "The behavior will change in pandas 3.0. This inplace method will never work because the intermediate object on which we are setting values always behaves as a copy.\n",
      "\n",
      "For example, when doing 'df[col].method(value, inplace=True)', try using 'df.method({col: value}, inplace=True)' or df[col] = df[col].method(value) instead, to perform the operation inplace on the original object.\n",
      "\n",
      "\n",
      "  data['Married'].fillna(data['Married'].mode()[0], inplace=True)\n",
      "/var/folders/v7/_1xlyqvs26z81fbvft3w9tlr0000gn/T/ipykernel_93365/2384213584.py:7: FutureWarning: A value is trying to be set on a copy of a DataFrame or Series through chained assignment using an inplace method.\n",
      "The behavior will change in pandas 3.0. This inplace method will never work because the intermediate object on which we are setting values always behaves as a copy.\n",
      "\n",
      "For example, when doing 'df[col].method(value, inplace=True)', try using 'df.method({col: value}, inplace=True)' or df[col] = df[col].method(value) instead, to perform the operation inplace on the original object.\n",
      "\n",
      "\n",
      "  data['Dependents'].fillna(data['Dependents'].mode()[0], inplace=True)\n",
      "/var/folders/v7/_1xlyqvs26z81fbvft3w9tlr0000gn/T/ipykernel_93365/2384213584.py:8: FutureWarning: A value is trying to be set on a copy of a DataFrame or Series through chained assignment using an inplace method.\n",
      "The behavior will change in pandas 3.0. This inplace method will never work because the intermediate object on which we are setting values always behaves as a copy.\n",
      "\n",
      "For example, when doing 'df[col].method(value, inplace=True)', try using 'df.method({col: value}, inplace=True)' or df[col] = df[col].method(value) instead, to perform the operation inplace on the original object.\n",
      "\n",
      "\n",
      "  data['Self_Employed'].fillna(data['Self_Employed'].mode()[0], inplace=True)\n",
      "/var/folders/v7/_1xlyqvs26z81fbvft3w9tlr0000gn/T/ipykernel_93365/2384213584.py:9: FutureWarning: A value is trying to be set on a copy of a DataFrame or Series through chained assignment using an inplace method.\n",
      "The behavior will change in pandas 3.0. This inplace method will never work because the intermediate object on which we are setting values always behaves as a copy.\n",
      "\n",
      "For example, when doing 'df[col].method(value, inplace=True)', try using 'df.method({col: value}, inplace=True)' or df[col] = df[col].method(value) instead, to perform the operation inplace on the original object.\n",
      "\n",
      "\n",
      "  data['LoanAmount'].fillna(data['LoanAmount'].median(), inplace=True)\n",
      "/var/folders/v7/_1xlyqvs26z81fbvft3w9tlr0000gn/T/ipykernel_93365/2384213584.py:10: FutureWarning: A value is trying to be set on a copy of a DataFrame or Series through chained assignment using an inplace method.\n",
      "The behavior will change in pandas 3.0. This inplace method will never work because the intermediate object on which we are setting values always behaves as a copy.\n",
      "\n",
      "For example, when doing 'df[col].method(value, inplace=True)', try using 'df.method({col: value}, inplace=True)' or df[col] = df[col].method(value) instead, to perform the operation inplace on the original object.\n",
      "\n",
      "\n",
      "  data['Loan_Amount_Term'].fillna(data['Loan_Amount_Term'].mode()[0], inplace=True)\n",
      "/var/folders/v7/_1xlyqvs26z81fbvft3w9tlr0000gn/T/ipykernel_93365/2384213584.py:11: FutureWarning: A value is trying to be set on a copy of a DataFrame or Series through chained assignment using an inplace method.\n",
      "The behavior will change in pandas 3.0. This inplace method will never work because the intermediate object on which we are setting values always behaves as a copy.\n",
      "\n",
      "For example, when doing 'df[col].method(value, inplace=True)', try using 'df.method({col: value}, inplace=True)' or df[col] = df[col].method(value) instead, to perform the operation inplace on the original object.\n",
      "\n",
      "\n",
      "  data['Credit_History'].fillna(data['Credit_History'].mode()[0], inplace=True)\n"
     ]
    }
   ],
   "source": [
    "# 1. Clean the data\n",
    "def clean_data(data):\n",
    "    \"\"\"Handle missing values and standardize categorical data.\"\"\"\n",
    "    # Fill missing values\n",
    "    data['Gender'].fillna(data['Gender'].mode()[0], inplace=True)\n",
    "    data['Married'].fillna(data['Married'].mode()[0], inplace=True)\n",
    "    data['Dependents'].fillna(data['Dependents'].mode()[0], inplace=True)\n",
    "    data['Self_Employed'].fillna(data['Self_Employed'].mode()[0], inplace=True)\n",
    "    data['LoanAmount'].fillna(data['LoanAmount'].median(), inplace=True)\n",
    "    data['Loan_Amount_Term'].fillna(data['Loan_Amount_Term'].mode()[0], inplace=True)\n",
    "    data['Credit_History'].fillna(data['Credit_History'].mode()[0], inplace=True)\n",
    "\n",
    "    # Standardize 'Dependents' column\n",
    "    data['Dependents'] = data['Dependents'].replace({'3+': '3+'})\n",
    "    return data\n",
    "\n",
    "# Clean the data\n",
    "cleaned_data = clean_data(data)\n",
    "# Display cleaned data info\n",
    "print(\"Missing Values After Cleaning:\\n\", cleaned_data.isnull().sum())\n",
    "\n",
    "# 2. Preprocess the data\n",
    "def preprocess_data(data):\n",
    "    \"\"\"Encode categorical features and normalize numerical features.\"\"\"\n",
    "    # Encode categorical variables\n",
    "    label_encoders = {}\n",
    "    categorical_cols = ['Gender', 'Married', 'Dependents', 'Education', 'Self_Employed', 'Property_Area', 'Loan_Status']\n",
    "    for col in categorical_cols:\n",
    "        le = LabelEncoder()\n",
    "        data[col] = le.fit_transform(data[col])\n",
    "        label_encoders[col] = le\n",
    "\n",
    "    # Normalize numerical features\n",
    "    scaler = MinMaxScaler()\n",
    "    numerical_cols = ['ApplicantIncome', 'CoapplicantIncome', 'LoanAmount']\n",
    "    data[numerical_cols] = scaler.fit_transform(data[numerical_cols])\n",
    "\n",
    "    return data, label_encoders\n",
    "\n",
    "# Preprocess the data\n",
    "preprocessed_data, label_encoders = preprocess_data(cleaned_data)\n",
    "\n",
    "# Sensitive attributes for fairness analysis\n",
    "sensitive_attributes = ['Gender', 'Married', 'Education', 'Self_Employed', 'Property_Area', 'Dependents']\n",
    "\n",
    "# Summary of data preparation\n",
    "print(\"Data preparation completed.\")\n",
    "print(f\"Sensitive attributes: {sensitive_attributes}\")"
   ]
  },
  {
   "cell_type": "code",
   "execution_count": 13,
   "metadata": {},
   "outputs": [
    {
     "data": {
      "image/png": "[encoded data removed]",
      "text/plain": [
       "<Figure size 2000x1600 with 5 Axes>"
      ]
     },
     "metadata": {},
     "output_type": "display_data"
    },
    {
     "name": "stderr",
     "output_type": "stream",
     "text": [
      "/var/folders/v7/_1xlyqvs26z81fbvft3w9tlr0000gn/T/ipykernel_93365/1380275414.py:122: FutureWarning:\n",
      "\n",
      "\n",
      "\n",
      "Passing `palette` without assigning `hue` is deprecated and will be removed in v0.14.0. Assign the `x` variable to `hue` and set `legend=False` for the same effect.\n",
      "\n",
      "\n",
      "/var/folders/v7/_1xlyqvs26z81fbvft3w9tlr0000gn/T/ipykernel_93365/1380275414.py:129: FutureWarning:\n",
      "\n",
      "\n",
      "\n",
      "Passing `palette` without assigning `hue` is deprecated and will be removed in v0.14.0. Assign the `x` variable to `hue` and set `legend=False` for the same effect.\n",
      "\n",
      "\n",
      "/var/folders/v7/_1xlyqvs26z81fbvft3w9tlr0000gn/T/ipykernel_93365/1380275414.py:136: FutureWarning:\n",
      "\n",
      "\n",
      "\n",
      "Passing `palette` without assigning `hue` is deprecated and will be removed in v0.14.0. Assign the `x` variable to `hue` and set `legend=False` for the same effect.\n",
      "\n",
      "\n"
     ]
    },
    {
     "data": {
      "image/png": "[encoded data removed]",
      "text/plain": [
       "<Figure size 2000x1200 with 3 Axes>"
      ]
     },
     "metadata": {},
     "output_type": "display_data"
    }
   ],
   "source": [
    "# Data Visualization\n",
    "\n",
    "# Replace encoded values dynamically for better visualization\n",
    "def replace_encoded_values(data):\n",
    "    \"\"\"Replace encoded values dynamically for all relevant columns.\"\"\"\n",
    "    # Define a mapping of columns to their replacements\n",
    "    replacement_map = {\n",
    "        'Loan_Status': {1: 'Approved', 0: 'Not Approved'},\n",
    "        'Gender': {1: 'Male', 0: 'Female'},\n",
    "        'Married': {1: 'Married', 0: 'Not Married'},\n",
    "        'Education': {1: 'Graduate', 0: 'Not Graduate'},\n",
    "        'Credit_History': {1: 'Has History', 0: 'No History'},\n",
    "        'Self_Employed': {1: 'Self-Employed', 0: 'Not Self-Employed'},\n",
    "        'Property_Area': {0: 'Urban', 1: 'Rural', 2: 'Semiurban'}  # Example mapping\n",
    "    }\n",
    "\n",
    "    # Apply replacements dynamically\n",
    "    for col, mapping in replacement_map.items():\n",
    "        if col in data.columns:\n",
    "            data[col] = data[col].replace(mapping)\n",
    "    return data\n",
    "\n",
    "def visualize_biases(data):\n",
    "    \"\"\"Generate visualizations with consistent labels, preserved colors, and corrected proportional chart.\"\"\"\n",
    "    # Replace encoded values dynamically\n",
    "    data = replace_encoded_values(data)\n",
    "\n",
    "    plt.figure(figsize=(20, 16))\n",
    "\n",
    "\n",
    "    # Loan Status by Marital Status\n",
    "    plt.subplot(3, 2, 2)\n",
    "    plot = sns.countplot(data=data, x='Married', hue='Loan_Status', palette='coolwarm')\n",
    "    plt.title('Loan Status by Marital Status', fontsize=14)\n",
    "    plt.xlabel('Marital Status', fontsize=12)\n",
    "    plt.ylabel('Count', fontsize=12)\n",
    "    plt.legend(title='Loan Status', fontsize=10)\n",
    "    for p in plot.patches:\n",
    "        plot.annotate(f'{int(p.get_height())}',\n",
    "                      (p.get_x() + p.get_width() / 2., p.get_height()),\n",
    "                      ha='center', va='center', fontsize=10, color='black',\n",
    "                      xytext=(0, 5), textcoords='offset points')\n",
    "\n",
    "    # Loan Status by Education Level\n",
    "    plt.subplot(3, 2, 3)\n",
    "    plot = sns.countplot(data=data, x='Education', hue='Loan_Status', palette='coolwarm')\n",
    "    plt.title('Loan Status by Education Level', fontsize=14)\n",
    "    plt.xlabel('Education Level', fontsize=12)\n",
    "    plt.ylabel('Count', fontsize=12)\n",
    "    plt.legend(title='Loan Status', fontsize=10)\n",
    "    for p in plot.patches:\n",
    "        plot.annotate(f'{int(p.get_height())}',\n",
    "                      (p.get_x() + p.get_width() / 2., p.get_height()),\n",
    "                      ha='center', va='center', fontsize=10, color='black',\n",
    "                      xytext=(0, 5), textcoords='offset points')\n",
    "\n",
    "    # Loan Status by Property Area\n",
    "    plt.subplot(3, 2, 1)\n",
    "    plot = sns.countplot(data=data, x='Property_Area', hue='Loan_Status', palette='coolwarm')\n",
    "    plt.title('Loan Status by Property Area', fontsize=14)\n",
    "    plt.xlabel('Property Area', fontsize=12)\n",
    "    plt.ylabel('Count', fontsize=12)\n",
    "    plt.legend(title='Loan Status', fontsize=10)\n",
    "    for p in plot.patches:\n",
    "        plot.annotate(f'{int(p.get_height())}',\n",
    "                      (p.get_x() + p.get_width() / 2., p.get_height()),\n",
    "                      ha='center', va='center', fontsize=10, color='black',\n",
    "                      xytext=(0, 5), textcoords='offset points')\n",
    "\n",
    "\n",
    "    # Loan Status by Gender\n",
    "    plt.subplot(3, 2, 4)\n",
    "    plot = sns.countplot(data=data, x='Gender', hue='Loan_Status', palette='coolwarm')\n",
    "    plt.title('Loan Status by Gender', fontsize=14)\n",
    "    plt.xlabel('Gender', fontsize=12)\n",
    "    plt.ylabel('Count', fontsize=12)\n",
    "    plt.legend(title='Loan Status', fontsize=10)\n",
    "    for p in plot.patches:\n",
    "        plot.annotate(f'{int(p.get_height())}',\n",
    "                      (p.get_x() + p.get_width() / 2., p.get_height()),\n",
    "                      ha='center', va='center', fontsize=10, color='black',\n",
    "                      xytext=(0, 5), textcoords='offset points')\n",
    "\n",
    "    # Corrected Proportional Loan Status by Gender\n",
    "    plt.subplot(3, 2, 5)\n",
    "    gender_counts = data.groupby(['Gender', 'Loan_Status']).size().reset_index(name='counts')\n",
    "    total_counts = gender_counts.groupby('Gender')['counts'].transform('sum')\n",
    "    gender_counts['proportion'] = gender_counts['counts'] / total_counts\n",
    "\n",
    "    # Create the proportional bar chart\n",
    "    plot = sns.barplot(\n",
    "        data=gender_counts,\n",
    "        x='Gender',\n",
    "        y='proportion',\n",
    "        hue='Loan_Status',\n",
    "        palette='coolwarm',\n",
    "        dodge=False\n",
    "    )\n",
    "    plt.title('Proportional Loan Status by Gender', fontsize=14)\n",
    "    plt.xlabel('Gender', fontsize=12)\n",
    "    plt.ylabel('Proportion', fontsize=12)\n",
    "    plt.legend(title='Loan Status', fontsize=10)\n",
    "\n",
    "    # Annotate proportions on the bars\n",
    "    for p in plot.patches:\n",
    "        proportion = f\"{p.get_height() * 100:.1f}%\"\n",
    "        plot.annotate(\n",
    "            proportion,\n",
    "            (p.get_x() + p.get_width() / 2., p.get_height()),\n",
    "            ha='center', va='center', fontsize=10, color='black',\n",
    "            xytext=(0, 5), textcoords='offset points'\n",
    "        )\n",
    "\n",
    "    plt.tight_layout()\n",
    "    plt.show()\n",
    "\n",
    "    # Numerical Feature Analysis\n",
    "    plt.figure(figsize=(20, 12))\n",
    "\n",
    "    # Applicant Income by Loan Status\n",
    "    plt.subplot(2, 2, 1)\n",
    "    sns.boxplot(data=data, x='Loan_Status', y='ApplicantIncome', palette='coolwarm')\n",
    "    plt.title('Applicant Income Distribution by Loan Status', fontsize=14)\n",
    "    plt.xlabel('Loan Status', fontsize=12)\n",
    "    plt.ylabel('Applicant Income', fontsize=12)\n",
    "\n",
    "    # Coapplicant Income by Loan Status\n",
    "    plt.subplot(2, 2, 2)\n",
    "    sns.boxplot(data=data, x='Loan_Status', y='CoapplicantIncome', palette='coolwarm')\n",
    "    plt.title('Coapplicant Income Distribution by Loan Status', fontsize=14)\n",
    "    plt.xlabel('Loan Status', fontsize=12)\n",
    "    plt.ylabel('Coapplicant Income', fontsize=12)\n",
    "\n",
    "    # Loan Amount by Loan Status\n",
    "    plt.subplot(2, 2, 3)\n",
    "    sns.boxplot(data=data, x='Loan_Status', y='LoanAmount', palette='coolwarm')\n",
    "    plt.title('Loan Amount Distribution by Loan Status', fontsize=14)\n",
    "    plt.xlabel('Loan Status', fontsize=12)\n",
    "    plt.ylabel('Loan Amount', fontsize=12)\n",
    "\n",
    "    plt.tight_layout()\n",
    "    plt.show()\n",
    "\n",
    "# Visualize biases\n",
    "visualize_biases(data)"
   ]
  },
  {
   "cell_type": "code",
   "execution_count": 6,
   "metadata": {},
   "outputs": [],
   "source": [
    "# Correct Feature Encoding and Normalization\n",
    "def encode_features(data):\n",
    "    \"\"\"Encode all categorical features using LabelEncoder.\"\"\"\n",
    "    label_encoders = {}\n",
    "    categorical_columns = ['Gender', 'Married', 'Dependents', 'Education', 'Self_Employed', \n",
    "                           'Property_Area', 'Loan_Status', 'Credit_History']\n",
    "    for col in categorical_columns:\n",
    "        if col in data.columns:\n",
    "            le = LabelEncoder()\n",
    "            data[col] = le.fit_transform(data[col].astype(str))  # Ensure strings are encoded\n",
    "            label_encoders[col] = le\n",
    "    return data, label_encoders\n",
    "\n",
    "# Normalize numerical columns\n",
    "def normalize_features(data):\n",
    "    \"\"\"Scale numerical columns to the range [0, 1].\"\"\"\n",
    "    scaler = MinMaxScaler()\n",
    "    numerical_columns = ['ApplicantIncome', 'CoapplicantIncome', 'LoanAmount']\n",
    "    data[numerical_columns] = scaler.fit_transform(data[numerical_columns])\n",
    "    return data\n",
    "\n",
    "# Reapply encoding and normalization\n",
    "encoded_data, label_encoders = encode_features(cleaned_data.copy())\n",
    "normalized_data = normalize_features(encoded_data)\n",
    "\n",
    "# Split the dataset\n",
    "X = normalized_data.drop(columns=['Loan_ID', 'Loan_Status'])\n",
    "y = normalized_data['Loan_Status']\n",
    "X_train, X_test, y_train, y_test = train_test_split(X, y, test_size=0.3, random_state=42)\n",
    "\n"
   ]
  },
  {
   "cell_type": "code",
   "execution_count": 7,
   "metadata": {},
   "outputs": [
    {
     "name": "stdout",
     "output_type": "stream",
     "text": [
      "Baseline Accuracy: 0.7837837837837838\n",
      "Baseline Classification Report:\n",
      "               precision    recall  f1-score   support\n",
      "\n",
      "           0       0.76      0.98      0.86       120\n",
      "           1       0.93      0.42      0.57        65\n",
      "\n",
      "    accuracy                           0.78       185\n",
      "   macro avg       0.84      0.70      0.71       185\n",
      "weighted avg       0.82      0.78      0.76       185\n",
      "\n"
     ]
    },
    {
     "name": "stderr",
     "output_type": "stream",
     "text": [
      "/Users/harold.g/Library/Caches/pypoetry/virtualenvs/loan-approval-system-with-bias-mitigation-uCPzHwT8-py3.11/lib/python3.11/site-packages/sklearn/linear_model/_logistic.py:469: ConvergenceWarning: lbfgs failed to converge (status=1):\n",
      "STOP: TOTAL NO. of ITERATIONS REACHED LIMIT.\n",
      "\n",
      "Increase the number of iterations (max_iter) or scale the data as shown in:\n",
      "    https://scikit-learn.org/stable/modules/preprocessing.html\n",
      "Please also refer to the documentation for alternative solver options:\n",
      "    https://scikit-learn.org/stable/modules/linear_model.html#logistic-regression\n",
      "  n_iter_i = _check_optimize_result(\n"
     ]
    }
   ],
   "source": [
    "# Train the Baseline Model\n",
    "baseline_model = LogisticRegression(random_state=42)\n",
    "baseline_model.fit(X_train, y_train)\n",
    "y_pred = baseline_model.predict(X_test)\n",
    "\n",
    "# Evaluate the Baseline Model\n",
    "print(\"Baseline Accuracy:\", accuracy_score(y_test, y_pred))\n",
    "print(\"Baseline Classification Report:\\n\", classification_report(y_test, y_pred))"
   ]
  },
  {
   "cell_type": "markdown",
   "metadata": {},
   "source": [
    "## **Baseline Model Performance**\n",
    "\n",
    "The baseline Logistic Regression model was trained without fairness considerations. Below are the results:\n",
    "\n",
    "- **Accuracy**: 78.4%\n",
    "- **Classification Report**:\n",
    "  - **Precision**: Higher for class `1` (Approved).\n",
    "  - **Recall**: Lower for class `1`, indicating bias in identifying positive outcomes.\n",
    "  - **F1-Score**: Lower for class `1`.\n",
    "\n",
    "### **Key Observations**:\n",
    "1. The model struggles to predict positive outcomes (`Loan_Status = 1`), as shown by the low recall for this class.\n",
    "2. The weighted average F1-score reflects an imbalance in prediction quality across classes.\n",
    "\n",
    "#### **Fairness Metrics**:\n",
    "- **Statistical Parity Difference**: 0.13\n",
    "  - Positive but indicates some disparity in approval rates between sensitive groups (e.g., Gender).\n",
    "\n",
    "The chart below summarizes the fairness metrics."
   ]
  },
  {
   "cell_type": "code",
   "execution_count": 8,
   "metadata": {},
   "outputs": [
    {
     "name": "stderr",
     "output_type": "stream",
     "text": [
      "/Users/harold.g/Library/Caches/pypoetry/virtualenvs/loan-approval-system-with-bias-mitigation-uCPzHwT8-py3.11/lib/python3.11/site-packages/dalex/fairness/_group_fairness/utils.py:209: FutureWarning: The previous implementation of stack is deprecated and will be removed in a future version of pandas. See the What's New notes for pandas 2.1.0 for details. Specify future_stack=True to adopt the new implementation and silence this warning.\n",
      "  data = data.stack(dropna=False)\n"
     ]
    },
    {
     "name": "stdout",
     "output_type": "stream",
     "text": [
      "Preparation of a new explainer is initiated\n",
      "\n",
      "  -> data              : 185 rows 11 cols\n",
      "  -> target variable   : Parameter 'y' was a pandas.Series. Converted to a numpy.ndarray.\n",
      "  -> target variable   : 185 values\n",
      "  -> model_class       : sklearn.linear_model._logistic.LogisticRegression (default)\n",
      "  -> label             : Not specified, model's class short name will be used. (default)\n",
      "  -> predict function  : <function yhat_proba_default at 0x150266b60> will be used (default)\n",
      "  -> predict function  : Accepts pandas.DataFrame and numpy.ndarray.\n",
      "  -> predicted values  : min = 0.0729, mean = 0.301, max = 0.944\n",
      "  -> model type        : classification will be used (default)\n",
      "  -> residual function : difference between y and yhat (default)\n",
      "  -> residuals         : min = -0.791, mean = 0.0508, max = 0.924\n",
      "  -> model_info        : package sklearn\n",
      "\n",
      "A new explainer has been created!\n",
      "No bias was detected!\n",
      "\n",
      "Conclusion: your model is fair in terms of checked fairness criteria.\n",
      "\n",
      "Ratios of metrics, based on '1'. Parameter 'epsilon' was set to 0.8 and therefore metrics should be within (0.8, 1.25)\n",
      "        TPR       ACC       PPV  FPR       STP\n",
      "0  0.910165  0.896985  1.090513  NaN  1.169935\n",
      "\n",
      "Warning!\n",
      "Take into consideration that NaN's are present, consider checking 'metric_scores' plot to see the difference\n"
     ]
    },
    {
     "data": {
      "application/vnd.plotly.v1+json": {
       "config": {
        "displaylogo": false,
        "modeBarButtonsToRemove": [
         "sendDataToCloud",
         "lasso2d",
         "autoScale2d",
         "select2d",
         "zoom2d",
         "pan2d",
         "zoomIn2d",
         "zoomOut2d",
         "resetScale2d",
         "toggleSpikelines",
         "hoverCompareCartesian",
         "hoverClosestCartesian"
        ],
        "plotlyServerURL": "https://plot.ly",
        "staticPlot": false,
        "toImageButtonOptions": {
         "height": null,
         "width": null
        }
       },
       "data": [
        {
         "alignmentgroup": "True",
         "customdata": [
          [
           "0",
           0.91,
           "DecisionTree_base"
          ]
         ],
         "hovertemplate": "<b>%{customdata[2]}</b><br>Subgroup: %{customdata[0]}<br>Score: %{customdata[1]}<br><extra></extra>",
         "legendgroup": "DecisionTree_base",
         "marker": {
          "color": "#46bac2",
          "pattern": {
           "shape": ""
          }
         },
         "name": "DecisionTree_base",
         "offsetgroup": "DecisionTree_base",
         "orientation": "h",
         "showlegend": true,
         "textposition": "auto",
         "type": "bar",
         "x": [
          -0.08983451536643017
         ],
         "xaxis": "x5",
         "y": [
          0.5
         ],
         "yaxis": "y5"
        },
        {
         "alignmentgroup": "True",
         "customdata": [
          [
           "0",
           1.091,
           "DecisionTree_base"
          ]
         ],
         "hovertemplate": "<b>%{customdata[2]}</b><br>Subgroup: %{customdata[0]}<br>Score: %{customdata[1]}<br><extra></extra>",
         "legendgroup": "DecisionTree_base",
         "marker": {
          "color": "#46bac2",
          "pattern": {
           "shape": ""
          }
         },
         "name": "DecisionTree_base",
         "offsetgroup": "DecisionTree_base",
         "orientation": "h",
         "showlegend": false,
         "textposition": "auto",
         "type": "bar",
         "x": [
          0.09051254089422023
         ],
         "xaxis": "x4",
         "y": [
          0.5
         ],
         "yaxis": "y4"
        },
        {
         "alignmentgroup": "True",
         "customdata": [
          [
           "0",
           null,
           "DecisionTree_base"
          ]
         ],
         "hovertemplate": "<b>%{customdata[2]}</b><br>Subgroup: %{customdata[0]}<br>Score: %{customdata[1]}<br><extra></extra>",
         "legendgroup": "DecisionTree_base",
         "marker": {
          "color": "#46bac2",
          "pattern": {
           "shape": ""
          }
         },
         "name": "DecisionTree_base",
         "offsetgroup": "DecisionTree_base",
         "orientation": "h",
         "showlegend": false,
         "textposition": "auto",
         "type": "bar",
         "x": [
          null
         ],
         "xaxis": "x3",
         "y": [
          0.5
         ],
         "yaxis": "y3"
        },
        {
         "alignmentgroup": "True",
         "customdata": [
          [
           "0",
           0.897,
           "DecisionTree_base"
          ]
         ],
         "hovertemplate": "<b>%{customdata[2]}</b><br>Subgroup: %{customdata[0]}<br>Score: %{customdata[1]}<br><extra></extra>",
         "legendgroup": "DecisionTree_base",
         "marker": {
          "color": "#46bac2",
          "pattern": {
           "shape": ""
          }
         },
         "name": "DecisionTree_base",
         "offsetgroup": "DecisionTree_base",
         "orientation": "h",
         "showlegend": false,
         "textposition": "auto",
         "type": "bar",
         "x": [
          -0.10301507537688448
         ],
         "xaxis": "x2",
         "y": [
          0.5
         ],
         "yaxis": "y2"
        },
        {
         "alignmentgroup": "True",
         "customdata": [
          [
           "0",
           1.17,
           "DecisionTree_base"
          ]
         ],
         "hovertemplate": "<b>%{customdata[2]}</b><br>Subgroup: %{customdata[0]}<br>Score: %{customdata[1]}<br><extra></extra>",
         "legendgroup": "DecisionTree_base",
         "marker": {
          "color": "#46bac2",
          "pattern": {
           "shape": ""
          }
         },
         "name": "DecisionTree_base",
         "offsetgroup": "DecisionTree_base",
         "orientation": "h",
         "showlegend": false,
         "textposition": "auto",
         "type": "bar",
         "x": [
          0.16993464052287588
         ],
         "xaxis": "x",
         "y": [
          0.5
         ],
         "yaxis": "y"
        }
       ],
       "layout": {
        "annotations": [
         {
          "font": {
           "size": 15
          },
          "showarrow": false,
          "text": "Statistical parity ratio   (TP + FP)/(TP + FP + TN + FN)",
          "x": 0.05,
          "xanchor": "left",
          "xref": "paper",
          "y": 0.144,
          "yanchor": "bottom",
          "yref": "paper"
         },
         {
          "font": {
           "size": 15
          },
          "showarrow": false,
          "text": "Accuracy equality ratio    (TP + TN)/(TP + FP + TN + FN)",
          "x": 0.05,
          "xanchor": "left",
          "xref": "paper",
          "y": 0.358,
          "yanchor": "bottom",
          "yref": "paper"
         },
         {
          "font": {
           "size": 15
          },
          "showarrow": false,
          "text": "Predictive equality ratio   FP/(FP + TN)",
          "x": 0.05,
          "xanchor": "left",
          "xref": "paper",
          "y": 0.572,
          "yanchor": "bottom",
          "yref": "paper"
         },
         {
          "font": {
           "size": 15
          },
          "showarrow": false,
          "text": "Predictive parity ratio     TP/(TP + FP)",
          "x": 0.05,
          "xanchor": "left",
          "xref": "paper",
          "y": 0.7859999999999999,
          "yanchor": "bottom",
          "yref": "paper"
         },
         {
          "font": {
           "size": 15
          },
          "showarrow": false,
          "text": "Equal opportunity ratio     TP/(TP + FN)",
          "x": 0.05,
          "xanchor": "left",
          "xref": "paper",
          "y": 1,
          "yanchor": "bottom",
          "yref": "paper"
         }
        ],
        "barmode": "group",
        "font": {
         "color": "#371ea3"
        },
        "legend": {
         "title": {
          "text": "label"
         },
         "tracegroupgap": 0
        },
        "margin": {
         "b": 71,
         "r": 30,
         "t": 78
        },
        "shapes": [
         {
          "fillcolor": "#f05a71",
          "layer": "below",
          "line": {
           "width": 0
          },
          "opacity": 0.1,
          "type": "rect",
          "x0": 0.25,
          "x1": 0.3,
          "xref": "x",
          "y0": 0,
          "y1": 1,
          "yref": "y"
         },
         {
          "fillcolor": "#f05a71",
          "layer": "below",
          "line": {
           "width": 0
          },
          "opacity": 0.1,
          "type": "rect",
          "x0": -0.21999999999999997,
          "x1": -0.19999999999999996,
          "xref": "x",
          "y0": 0,
          "y1": 1,
          "yref": "y"
         },
         {
          "fillcolor": "#c7f5bf",
          "layer": "below",
          "line": {
           "width": 0
          },
          "opacity": 0.1,
          "type": "rect",
          "x0": -0.19999999999999996,
          "x1": 0.25,
          "xref": "x",
          "y0": 0,
          "y1": 1,
          "yref": "y"
         },
         {
          "line": {
           "color": "#371ea3",
           "width": 1.5
          },
          "type": "line",
          "x0": 0,
          "x1": 0,
          "xref": "x",
          "y0": 0,
          "y1": 1,
          "yref": "y"
         },
         {
          "fillcolor": "#f05a71",
          "layer": "below",
          "line": {
           "width": 0
          },
          "opacity": 0.1,
          "type": "rect",
          "x0": 0.25,
          "x1": 0.3,
          "xref": "x",
          "y0": 0,
          "y1": 1,
          "yref": "y2"
         },
         {
          "fillcolor": "#f05a71",
          "layer": "below",
          "line": {
           "width": 0
          },
          "opacity": 0.1,
          "type": "rect",
          "x0": -0.21999999999999997,
          "x1": -0.19999999999999996,
          "xref": "x",
          "y0": 0,
          "y1": 1,
          "yref": "y2"
         },
         {
          "fillcolor": "#c7f5bf",
          "layer": "below",
          "line": {
           "width": 0
          },
          "opacity": 0.1,
          "type": "rect",
          "x0": -0.19999999999999996,
          "x1": 0.25,
          "xref": "x",
          "y0": 0,
          "y1": 1,
          "yref": "y2"
         },
         {
          "line": {
           "color": "#371ea3",
           "width": 1.5
          },
          "type": "line",
          "x0": 0,
          "x1": 0,
          "xref": "x",
          "y0": 0,
          "y1": 1,
          "yref": "y2"
         },
         {
          "fillcolor": "#f05a71",
          "layer": "below",
          "line": {
           "width": 0
          },
          "opacity": 0.1,
          "type": "rect",
          "x0": 0.25,
          "x1": 0.3,
          "xref": "x",
          "y0": 0,
          "y1": 1,
          "yref": "y3"
         },
         {
          "fillcolor": "#f05a71",
          "layer": "below",
          "line": {
           "width": 0
          },
          "opacity": 0.1,
          "type": "rect",
          "x0": -0.21999999999999997,
          "x1": -0.19999999999999996,
          "xref": "x",
          "y0": 0,
          "y1": 1,
          "yref": "y3"
         },
         {
          "fillcolor": "#c7f5bf",
          "layer": "below",
          "line": {
           "width": 0
          },
          "opacity": 0.1,
          "type": "rect",
          "x0": -0.19999999999999996,
          "x1": 0.25,
          "xref": "x",
          "y0": 0,
          "y1": 1,
          "yref": "y3"
         },
         {
          "line": {
           "color": "#371ea3",
           "width": 1.5
          },
          "type": "line",
          "x0": 0,
          "x1": 0,
          "xref": "x",
          "y0": 0,
          "y1": 1,
          "yref": "y3"
         },
         {
          "fillcolor": "#f05a71",
          "layer": "below",
          "line": {
           "width": 0
          },
          "opacity": 0.1,
          "type": "rect",
          "x0": 0.25,
          "x1": 0.3,
          "xref": "x",
          "y0": 0,
          "y1": 1,
          "yref": "y4"
         },
         {
          "fillcolor": "#f05a71",
          "layer": "below",
          "line": {
           "width": 0
          },
          "opacity": 0.1,
          "type": "rect",
          "x0": -0.21999999999999997,
          "x1": -0.19999999999999996,
          "xref": "x",
          "y0": 0,
          "y1": 1,
          "yref": "y4"
         },
         {
          "fillcolor": "#c7f5bf",
          "layer": "below",
          "line": {
           "width": 0
          },
          "opacity": 0.1,
          "type": "rect",
          "x0": -0.19999999999999996,
          "x1": 0.25,
          "xref": "x",
          "y0": 0,
          "y1": 1,
          "yref": "y4"
         },
         {
          "line": {
           "color": "#371ea3",
           "width": 1.5
          },
          "type": "line",
          "x0": 0,
          "x1": 0,
          "xref": "x",
          "y0": 0,
          "y1": 1,
          "yref": "y4"
         },
         {
          "fillcolor": "#f05a71",
          "layer": "below",
          "line": {
           "width": 0
          },
          "opacity": 0.1,
          "type": "rect",
          "x0": 0.25,
          "x1": 0.3,
          "xref": "x",
          "y0": 0,
          "y1": 1,
          "yref": "y5"
         },
         {
          "fillcolor": "#f05a71",
          "layer": "below",
          "line": {
           "width": 0
          },
          "opacity": 0.1,
          "type": "rect",
          "x0": -0.21999999999999997,
          "x1": -0.19999999999999996,
          "xref": "x",
          "y0": 0,
          "y1": 1,
          "yref": "y5"
         },
         {
          "fillcolor": "#c7f5bf",
          "layer": "below",
          "line": {
           "width": 0
          },
          "opacity": 0.1,
          "type": "rect",
          "x0": -0.19999999999999996,
          "x1": 0.25,
          "xref": "x",
          "y0": 0,
          "y1": 1,
          "yref": "y5"
         },
         {
          "line": {
           "color": "#371ea3",
           "width": 1.5
          },
          "type": "line",
          "x0": 0,
          "x1": 0,
          "xref": "x",
          "y0": 0,
          "y1": 1,
          "yref": "y5"
         }
        ],
        "template": {
         "data": {
          "bar": [
           {
            "error_x": {
             "color": "#2a3f5f"
            },
            "error_y": {
             "color": "#2a3f5f"
            },
            "marker": {
             "line": {
              "color": "white",
              "width": 0.5
             },
             "pattern": {
              "fillmode": "overlay",
              "size": 10,
              "solidity": 0.2
             }
            },
            "type": "bar"
           }
          ],
          "barpolar": [
           {
            "marker": {
             "line": {
              "color": "white",
              "width": 0.5
             },
             "pattern": {
              "fillmode": "overlay",
              "size": 10,
              "solidity": 0.2
             }
            },
            "type": "barpolar"
           }
          ],
          "carpet": [
           {
            "aaxis": {
             "endlinecolor": "#2a3f5f",
             "gridcolor": "#C8D4E3",
             "linecolor": "#C8D4E3",
             "minorgridcolor": "#C8D4E3",
             "startlinecolor": "#2a3f5f"
            },
            "baxis": {
             "endlinecolor": "#2a3f5f",
             "gridcolor": "#C8D4E3",
             "linecolor": "#C8D4E3",
             "minorgridcolor": "#C8D4E3",
             "startlinecolor": "#2a3f5f"
            },
            "type": "carpet"
           }
          ],
          "choropleth": [
           {
            "colorbar": {
             "outlinewidth": 0,
             "ticks": ""
            },
            "type": "choropleth"
           }
          ],
          "contour": [
           {
            "colorbar": {
             "outlinewidth": 0,
             "ticks": ""
            },
            "colorscale": [
             [
              0,
              "#0d0887"
             ],
             [
              0.1111111111111111,
              "#46039f"
             ],
             [
              0.2222222222222222,
              "#7201a8"
             ],
             [
              0.3333333333333333,
              "#9c179e"
             ],
             [
              0.4444444444444444,
              "#bd3786"
             ],
             [
              0.5555555555555556,
              "#d8576b"
             ],
             [
              0.6666666666666666,
              "#ed7953"
             ],
             [
              0.7777777777777778,
              "#fb9f3a"
             ],
             [
              0.8888888888888888,
              "#fdca26"
             ],
             [
              1,
              "#f0f921"
             ]
            ],
            "type": "contour"
           }
          ],
          "contourcarpet": [
           {
            "colorbar": {
             "outlinewidth": 0,
             "ticks": ""
            },
            "type": "contourcarpet"
           }
          ],
          "heatmap": [
           {
            "colorbar": {
             "outlinewidth": 0,
             "ticks": ""
            },
            "colorscale": [
             [
              0,
              "#0d0887"
             ],
             [
              0.1111111111111111,
              "#46039f"
             ],
             [
              0.2222222222222222,
              "#7201a8"
             ],
             [
              0.3333333333333333,
              "#9c179e"
             ],
             [
              0.4444444444444444,
              "#bd3786"
             ],
             [
              0.5555555555555556,
              "#d8576b"
             ],
             [
              0.6666666666666666,
              "#ed7953"
             ],
             [
              0.7777777777777778,
              "#fb9f3a"
             ],
             [
              0.8888888888888888,
              "#fdca26"
             ],
             [
              1,
              "#f0f921"
             ]
            ],
            "type": "heatmap"
           }
          ],
          "heatmapgl": [
           {
            "colorbar": {
             "outlinewidth": 0,
             "ticks": ""
            },
            "colorscale": [
             [
              0,
              "#0d0887"
             ],
             [
              0.1111111111111111,
              "#46039f"
             ],
             [
              0.2222222222222222,
              "#7201a8"
             ],
             [
              0.3333333333333333,
              "#9c179e"
             ],
             [
              0.4444444444444444,
              "#bd3786"
             ],
             [
              0.5555555555555556,
              "#d8576b"
             ],
             [
              0.6666666666666666,
              "#ed7953"
             ],
             [
              0.7777777777777778,
              "#fb9f3a"
             ],
             [
              0.8888888888888888,
              "#fdca26"
             ],
             [
              1,
              "#f0f921"
             ]
            ],
            "type": "heatmapgl"
           }
          ],
          "histogram": [
           {
            "marker": {
             "pattern": {
              "fillmode": "overlay",
              "size": 10,
              "solidity": 0.2
             }
            },
            "type": "histogram"
           }
          ],
          "histogram2d": [
           {
            "colorbar": {
             "outlinewidth": 0,
             "ticks": ""
            },
            "colorscale": [
             [
              0,
              "#0d0887"
             ],
             [
              0.1111111111111111,
              "#46039f"
             ],
             [
              0.2222222222222222,
              "#7201a8"
             ],
             [
              0.3333333333333333,
              "#9c179e"
             ],
             [
              0.4444444444444444,
              "#bd3786"
             ],
             [
              0.5555555555555556,
              "#d8576b"
             ],
             [
              0.6666666666666666,
              "#ed7953"
             ],
             [
              0.7777777777777778,
              "#fb9f3a"
             ],
             [
              0.8888888888888888,
              "#fdca26"
             ],
             [
              1,
              "#f0f921"
             ]
            ],
            "type": "histogram2d"
           }
          ],
          "histogram2dcontour": [
           {
            "colorbar": {
             "outlinewidth": 0,
             "ticks": ""
            },
            "colorscale": [
             [
              0,
              "#0d0887"
             ],
             [
              0.1111111111111111,
              "#46039f"
             ],
             [
              0.2222222222222222,
              "#7201a8"
             ],
             [
              0.3333333333333333,
              "#9c179e"
             ],
             [
              0.4444444444444444,
              "#bd3786"
             ],
             [
              0.5555555555555556,
              "#d8576b"
             ],
             [
              0.6666666666666666,
              "#ed7953"
             ],
             [
              0.7777777777777778,
              "#fb9f3a"
             ],
             [
              0.8888888888888888,
              "#fdca26"
             ],
             [
              1,
              "#f0f921"
             ]
            ],
            "type": "histogram2dcontour"
           }
          ],
          "mesh3d": [
           {
            "colorbar": {
             "outlinewidth": 0,
             "ticks": ""
            },
            "type": "mesh3d"
           }
          ],
          "parcoords": [
           {
            "line": {
             "colorbar": {
              "outlinewidth": 0,
              "ticks": ""
             }
            },
            "type": "parcoords"
           }
          ],
          "pie": [
           {
            "automargin": true,
            "type": "pie"
           }
          ],
          "scatter": [
           {
            "fillpattern": {
             "fillmode": "overlay",
             "size": 10,
             "solidity": 0.2
            },
            "type": "scatter"
           }
          ],
          "scatter3d": [
           {
            "line": {
             "colorbar": {
              "outlinewidth": 0,
              "ticks": ""
             }
            },
            "marker": {
             "colorbar": {
              "outlinewidth": 0,
              "ticks": ""
             }
            },
            "type": "scatter3d"
           }
          ],
          "scattercarpet": [
           {
            "marker": {
             "colorbar": {
              "outlinewidth": 0,
              "ticks": ""
             }
            },
            "type": "scattercarpet"
           }
          ],
          "scattergeo": [
           {
            "marker": {
             "colorbar": {
              "outlinewidth": 0,
              "ticks": ""
             }
            },
            "type": "scattergeo"
           }
          ],
          "scattergl": [
           {
            "marker": {
             "colorbar": {
              "outlinewidth": 0,
              "ticks": ""
             }
            },
            "type": "scattergl"
           }
          ],
          "scattermapbox": [
           {
            "marker": {
             "colorbar": {
              "outlinewidth": 0,
              "ticks": ""
             }
            },
            "type": "scattermapbox"
           }
          ],
          "scatterpolar": [
           {
            "marker": {
             "colorbar": {
              "outlinewidth": 0,
              "ticks": ""
             }
            },
            "type": "scatterpolar"
           }
          ],
          "scatterpolargl": [
           {
            "marker": {
             "colorbar": {
              "outlinewidth": 0,
              "ticks": ""
             }
            },
            "type": "scatterpolargl"
           }
          ],
          "scatterternary": [
           {
            "marker": {
             "colorbar": {
              "outlinewidth": 0,
              "ticks": ""
             }
            },
            "type": "scatterternary"
           }
          ],
          "surface": [
           {
            "colorbar": {
             "outlinewidth": 0,
             "ticks": ""
            },
            "colorscale": [
             [
              0,
              "#0d0887"
             ],
             [
              0.1111111111111111,
              "#46039f"
             ],
             [
              0.2222222222222222,
              "#7201a8"
             ],
             [
              0.3333333333333333,
              "#9c179e"
             ],
             [
              0.4444444444444444,
              "#bd3786"
             ],
             [
              0.5555555555555556,
              "#d8576b"
             ],
             [
              0.6666666666666666,
              "#ed7953"
             ],
             [
              0.7777777777777778,
              "#fb9f3a"
             ],
             [
              0.8888888888888888,
              "#fdca26"
             ],
             [
              1,
              "#f0f921"
             ]
            ],
            "type": "surface"
           }
          ],
          "table": [
           {
            "cells": {
             "fill": {
              "color": "#EBF0F8"
             },
             "line": {
              "color": "white"
             }
            },
            "header": {
             "fill": {
              "color": "#C8D4E3"
             },
             "line": {
              "color": "white"
             }
            },
            "type": "table"
           }
          ]
         },
         "layout": {
          "annotationdefaults": {
           "arrowcolor": "#2a3f5f",
           "arrowhead": 0,
           "arrowwidth": 1
          },
          "autotypenumbers": "strict",
          "coloraxis": {
           "colorbar": {
            "outlinewidth": 0,
            "ticks": ""
           }
          },
          "colorscale": {
           "diverging": [
            [
             0,
             "#8e0152"
            ],
            [
             0.1,
             "#c51b7d"
            ],
            [
             0.2,
             "#de77ae"
            ],
            [
             0.3,
             "#f1b6da"
            ],
            [
             0.4,
             "#fde0ef"
            ],
            [
             0.5,
             "#f7f7f7"
            ],
            [
             0.6,
             "#e6f5d0"
            ],
            [
             0.7,
             "#b8e186"
            ],
            [
             0.8,
             "#7fbc41"
            ],
            [
             0.9,
             "#4d9221"
            ],
            [
             1,
             "#276419"
            ]
           ],
           "sequential": [
            [
             0,
             "#0d0887"
            ],
            [
             0.1111111111111111,
             "#46039f"
            ],
            [
             0.2222222222222222,
             "#7201a8"
            ],
            [
             0.3333333333333333,
             "#9c179e"
            ],
            [
             0.4444444444444444,
             "#bd3786"
            ],
            [
             0.5555555555555556,
             "#d8576b"
            ],
            [
             0.6666666666666666,
             "#ed7953"
            ],
            [
             0.7777777777777778,
             "#fb9f3a"
            ],
            [
             0.8888888888888888,
             "#fdca26"
            ],
            [
             1,
             "#f0f921"
            ]
           ],
           "sequentialminus": [
            [
             0,
             "#0d0887"
            ],
            [
             0.1111111111111111,
             "#46039f"
            ],
            [
             0.2222222222222222,
             "#7201a8"
            ],
            [
             0.3333333333333333,
             "#9c179e"
            ],
            [
             0.4444444444444444,
             "#bd3786"
            ],
            [
             0.5555555555555556,
             "#d8576b"
            ],
            [
             0.6666666666666666,
             "#ed7953"
            ],
            [
             0.7777777777777778,
             "#fb9f3a"
            ],
            [
             0.8888888888888888,
             "#fdca26"
            ],
            [
             1,
             "#f0f921"
            ]
           ]
          },
          "colorway": [
           "#636efa",
           "#EF553B",
           "#00cc96",
           "#ab63fa",
           "#FFA15A",
           "#19d3f3",
           "#FF6692",
           "#B6E880",
           "#FF97FF",
           "#FECB52"
          ],
          "font": {
           "color": "#2a3f5f"
          },
          "geo": {
           "bgcolor": "white",
           "lakecolor": "white",
           "landcolor": "white",
           "showlakes": true,
           "showland": true,
           "subunitcolor": "#C8D4E3"
          },
          "hoverlabel": {
           "align": "left"
          },
          "hovermode": "closest",
          "mapbox": {
           "style": "light"
          },
          "paper_bgcolor": "white",
          "plot_bgcolor": "white",
          "polar": {
           "angularaxis": {
            "gridcolor": "#EBF0F8",
            "linecolor": "#EBF0F8",
            "ticks": ""
           },
           "bgcolor": "white",
           "radialaxis": {
            "gridcolor": "#EBF0F8",
            "linecolor": "#EBF0F8",
            "ticks": ""
           }
          },
          "scene": {
           "xaxis": {
            "backgroundcolor": "white",
            "gridcolor": "#DFE8F3",
            "gridwidth": 2,
            "linecolor": "#EBF0F8",
            "showbackground": true,
            "ticks": "",
            "zerolinecolor": "#EBF0F8"
           },
           "yaxis": {
            "backgroundcolor": "white",
            "gridcolor": "#DFE8F3",
            "gridwidth": 2,
            "linecolor": "#EBF0F8",
            "showbackground": true,
            "ticks": "",
            "zerolinecolor": "#EBF0F8"
           },
           "zaxis": {
            "backgroundcolor": "white",
            "gridcolor": "#DFE8F3",
            "gridwidth": 2,
            "linecolor": "#EBF0F8",
            "showbackground": true,
            "ticks": "",
            "zerolinecolor": "#EBF0F8"
           }
          },
          "shapedefaults": {
           "line": {
            "color": "#2a3f5f"
           }
          },
          "ternary": {
           "aaxis": {
            "gridcolor": "#DFE8F3",
            "linecolor": "#A2B1C6",
            "ticks": ""
           },
           "baxis": {
            "gridcolor": "#DFE8F3",
            "linecolor": "#A2B1C6",
            "ticks": ""
           },
           "bgcolor": "white",
           "caxis": {
            "gridcolor": "#DFE8F3",
            "linecolor": "#A2B1C6",
            "ticks": ""
           }
          },
          "title": {
           "x": 0.05
          },
          "xaxis": {
           "automargin": true,
           "gridcolor": "#EBF0F8",
           "linecolor": "#EBF0F8",
           "ticks": "",
           "title": {
            "standoff": 15
           },
           "zerolinecolor": "#EBF0F8",
           "zerolinewidth": 2
          },
          "yaxis": {
           "automargin": true,
           "gridcolor": "#EBF0F8",
           "linecolor": "#EBF0F8",
           "ticks": "",
           "title": {
            "standoff": 15
           },
           "zerolinecolor": "#EBF0F8",
           "zerolinewidth": 2
          }
         }
        },
        "title": {
         "font": {
          "size": 25
         },
         "text": "Fairness Check",
         "x": 0.5,
         "y": 0.99
        },
        "xaxis": {
         "anchor": "y",
         "domain": [
          0,
          1
         ],
         "range": [
          -0.21999999999999997,
          0.3
         ],
         "ticktext": [
          0.7,
          0.8,
          0.9,
          1,
          1.1,
          1.2,
          1
         ],
         "tickvals": [
          -0.30000000000000004,
          -0.19999999999999996,
          -0.09999999999999998,
          0,
          0.10000000000000009,
          0.19999999999999996,
          0
         ],
         "title": {
          "text": "score"
         }
        },
        "xaxis2": {
         "anchor": "y2",
         "domain": [
          0,
          1
         ],
         "matches": "x",
         "range": [
          -0.21999999999999997,
          0.3
         ],
         "showticklabels": false,
         "ticktext": [
          0.7,
          0.8,
          0.9,
          1,
          1.1,
          1.2,
          1
         ],
         "tickvals": [
          -0.30000000000000004,
          -0.19999999999999996,
          -0.09999999999999998,
          0,
          0.10000000000000009,
          0.19999999999999996,
          0
         ]
        },
        "xaxis3": {
         "anchor": "y3",
         "domain": [
          0,
          1
         ],
         "matches": "x",
         "range": [
          -0.21999999999999997,
          0.3
         ],
         "showticklabels": false,
         "ticktext": [
          0.7,
          0.8,
          0.9,
          1,
          1.1,
          1.2,
          1
         ],
         "tickvals": [
          -0.30000000000000004,
          -0.19999999999999996,
          -0.09999999999999998,
          0,
          0.10000000000000009,
          0.19999999999999996,
          0
         ]
        },
        "xaxis4": {
         "anchor": "y4",
         "domain": [
          0,
          1
         ],
         "matches": "x",
         "range": [
          -0.21999999999999997,
          0.3
         ],
         "showticklabels": false,
         "ticktext": [
          0.7,
          0.8,
          0.9,
          1,
          1.1,
          1.2,
          1
         ],
         "tickvals": [
          -0.30000000000000004,
          -0.19999999999999996,
          -0.09999999999999998,
          0,
          0.10000000000000009,
          0.19999999999999996,
          0
         ]
        },
        "xaxis5": {
         "anchor": "y5",
         "domain": [
          0,
          1
         ],
         "matches": "x",
         "range": [
          -0.21999999999999997,
          0.3
         ],
         "showticklabels": false,
         "ticktext": [
          0.7,
          0.8,
          0.9,
          1,
          1.1,
          1.2,
          1
         ],
         "tickvals": [
          -0.30000000000000004,
          -0.19999999999999996,
          -0.09999999999999998,
          0,
          0.10000000000000009,
          0.19999999999999996,
          0
         ]
        },
        "yaxis": {
         "anchor": "x",
         "domain": [
          0,
          0.144
         ],
         "range": [
          0,
          1
         ],
         "showgrid": false,
         "ticktext": [
          "0"
         ],
         "tickvals": [
          0.5
         ],
         "title": {
          "text": ""
         },
         "zeroline": false
        },
        "yaxis2": {
         "anchor": "x2",
         "domain": [
          0.214,
          0.358
         ],
         "matches": "y",
         "range": [
          0,
          1
         ],
         "showgrid": false,
         "ticktext": [
          "0"
         ],
         "tickvals": [
          0.5
         ],
         "title": {
          "text": ""
         },
         "zeroline": false
        },
        "yaxis3": {
         "anchor": "x3",
         "domain": [
          0.428,
          0.572
         ],
         "matches": "y",
         "range": [
          0,
          1
         ],
         "showgrid": false,
         "ticktext": [
          "0"
         ],
         "tickvals": [
          0.5
         ],
         "title": {
          "text": "subgroup"
         },
         "zeroline": false
        },
        "yaxis4": {
         "anchor": "x4",
         "domain": [
          0.6419999999999999,
          0.7859999999999999
         ],
         "matches": "y",
         "range": [
          0,
          1
         ],
         "showgrid": false,
         "ticktext": [
          "0"
         ],
         "tickvals": [
          0.5
         ],
         "title": {
          "text": ""
         },
         "zeroline": false
        },
        "yaxis5": {
         "anchor": "x5",
         "domain": [
          0.856,
          1
         ],
         "matches": "y",
         "range": [
          0,
          1
         ],
         "showgrid": false,
         "ticktext": [
          "0"
         ],
         "tickvals": [
          0.5
         ],
         "title": {
          "text": ""
         },
         "zeroline": false
        }
       }
      }
     },
     "metadata": {},
     "output_type": "display_data"
    }
   ],
   "source": [
    "# Evaluate fairness in comparison to the privileged group\n",
    "exp_decisiontree_base = dx.Explainer(baseline_model, X_test,\n",
    "                                     y_test, verbose=True)\n",
    "\n",
    "fairness_decisiontree_base = exp_decisiontree_base.model_fairness(protected=X_test[\"Gender\"],\n",
    "                                                                  privileged=1,\n",
    "                                                                  label=\"DecisionTree_base\")\n",
    "fairness_decisiontree_base.fairness_check()\n",
    "fairness_decisiontree_base.plot()"
   ]
  },
  {
   "cell_type": "markdown",
   "metadata": {},
   "source": [
    "## **Impact of Bias Mitigation**\n",
    "\n",
    "Three bias mitigation techniques were applied, and their impact on fairness metrics is as follows:\n",
    "\n",
    "### 1. **Pre-processing: Reweighing**\n",
    "- Statistical Parity Difference: `-1.11e-16` (Effectively zero)\n",
    "- This technique equalizes approval rates across groups but does not directly optimize accuracy.\n",
    "\n",
    "### 2. **In-processing: Adversarial Debiasing**\n",
    "- Statistical Parity Difference: `0.0`\n",
    "- This technique eliminates disparity in approval rates while balancing accuracy.\n",
    "\n",
    "### 3. **Post-processing: Calibrated Equal Odds**\n",
    "- Statistical Parity Difference: `0.46`\n",
    "- Achieves partial fairness improvement but remains less effective compared to the previous methods.\n",
    "\n",
    "The following chart visualizes the fairness metrics across these methods."
   ]
  },
  {
   "cell_type": "code",
   "execution_count": 9,
   "metadata": {},
   "outputs": [
    {
     "name": "stdout",
     "output_type": "stream",
     "text": [
      "Baseline Statistical Parity Difference: 0.13307552320291177\n"
     ]
    }
   ],
   "source": [
    "# Convert to AIF360 dataset\n",
    "protected_attribute = 'Gender'\n",
    "X_train['Loan_Status'] = y_train\n",
    "X_test['Loan_Status'] = y_test\n",
    "train_dataset = BinaryLabelDataset(df=X_train,\n",
    "                                   label_names=['Loan_Status'],\n",
    "                                   protected_attribute_names=[protected_attribute])\n",
    "test_dataset = BinaryLabelDataset(df=X_test,\n",
    "                                  label_names=['Loan_Status'],\n",
    "                                  protected_attribute_names=[protected_attribute])\n",
    "\n",
    "# Evaluate fairness of the baseline model\n",
    "metric = BinaryLabelDatasetMetric(test_dataset, privileged_groups=[{protected_attribute: 1}], unprivileged_groups=[{protected_attribute: 0}])\n",
    "print(\"Baseline Statistical Parity Difference:\", metric.statistical_parity_difference())\n"
   ]
  },
  {
   "cell_type": "code",
   "execution_count": 10,
   "metadata": {},
   "outputs": [
    {
     "name": "stdout",
     "output_type": "stream",
     "text": [
      "WARNING:tensorflow:From /Users/harold.g/Library/Caches/pypoetry/virtualenvs/loan-approval-system-with-bias-mitigation-uCPzHwT8-py3.11/lib/python3.11/site-packages/tensorflow/python/util/dispatch.py:1260: calling dropout (from tensorflow.python.ops.nn_ops) with keep_prob is deprecated and will be removed in a future version.\n",
      "Instructions for updating:\n",
      "Please use `rate` instead of `keep_prob`. Rate should be set to `rate = 1 - keep_prob`.\n"
     ]
    },
    {
     "name": "stderr",
     "output_type": "stream",
     "text": [
      "WARNING:tensorflow:From /Users/harold.g/Library/Caches/pypoetry/virtualenvs/loan-approval-system-with-bias-mitigation-uCPzHwT8-py3.11/lib/python3.11/site-packages/tensorflow/python/util/dispatch.py:1260: calling dropout (from tensorflow.python.ops.nn_ops) with keep_prob is deprecated and will be removed in a future version.\n",
      "Instructions for updating:\n",
      "Please use `rate` instead of `keep_prob`. Rate should be set to `rate = 1 - keep_prob`.\n",
      "WARNING: All log messages before absl::InitializeLog() is called are written to STDERR\n",
      "I0000 00:00:1733324865.949078 5057905 mlir_graph_optimization_pass.cc:401] MLIR V1 optimization pass is not enabled\n"
     ]
    },
    {
     "name": "stdout",
     "output_type": "stream",
     "text": [
      "epoch 0; iter: 0; batch classifier loss: 22.154709; batch adversarial loss: 1.811331\n",
      "epoch 1; iter: 0; batch classifier loss: 21.979481; batch adversarial loss: 1.823387\n",
      "epoch 2; iter: 0; batch classifier loss: 20.032555; batch adversarial loss: 1.753132\n",
      "epoch 3; iter: 0; batch classifier loss: 14.338734; batch adversarial loss: 1.709759\n",
      "epoch 4; iter: 0; batch classifier loss: 13.994533; batch adversarial loss: 1.590761\n",
      "epoch 5; iter: 0; batch classifier loss: 10.619505; batch adversarial loss: 1.670412\n",
      "epoch 6; iter: 0; batch classifier loss: 8.012014; batch adversarial loss: 1.509742\n",
      "epoch 7; iter: 0; batch classifier loss: 6.716139; batch adversarial loss: 1.357595\n",
      "epoch 8; iter: 0; batch classifier loss: 6.049914; batch adversarial loss: 1.302565\n",
      "epoch 9; iter: 0; batch classifier loss: 4.875341; batch adversarial loss: 1.145613\n",
      "epoch 10; iter: 0; batch classifier loss: 6.087915; batch adversarial loss: 1.322972\n",
      "epoch 11; iter: 0; batch classifier loss: 6.096429; batch adversarial loss: 1.264321\n",
      "epoch 12; iter: 0; batch classifier loss: 5.143034; batch adversarial loss: 1.267822\n",
      "epoch 13; iter: 0; batch classifier loss: 5.199439; batch adversarial loss: 1.134470\n",
      "epoch 14; iter: 0; batch classifier loss: 4.765627; batch adversarial loss: 1.084193\n",
      "epoch 15; iter: 0; batch classifier loss: 5.222931; batch adversarial loss: 1.189375\n",
      "epoch 16; iter: 0; batch classifier loss: 4.948016; batch adversarial loss: 1.095489\n",
      "epoch 17; iter: 0; batch classifier loss: 4.083942; batch adversarial loss: 1.138085\n",
      "epoch 18; iter: 0; batch classifier loss: 6.201519; batch adversarial loss: 1.167747\n",
      "epoch 19; iter: 0; batch classifier loss: 4.567609; batch adversarial loss: 1.148453\n",
      "epoch 20; iter: 0; batch classifier loss: 4.268941; batch adversarial loss: 1.131974\n",
      "epoch 21; iter: 0; batch classifier loss: 3.754580; batch adversarial loss: 1.058857\n",
      "epoch 22; iter: 0; batch classifier loss: 4.476367; batch adversarial loss: 1.220188\n",
      "epoch 23; iter: 0; batch classifier loss: 5.034843; batch adversarial loss: 1.147928\n",
      "epoch 24; iter: 0; batch classifier loss: 5.851194; batch adversarial loss: 1.163458\n",
      "epoch 25; iter: 0; batch classifier loss: 4.652400; batch adversarial loss: 1.247730\n",
      "epoch 26; iter: 0; batch classifier loss: 4.865733; batch adversarial loss: 1.082240\n",
      "epoch 27; iter: 0; batch classifier loss: 3.719211; batch adversarial loss: 1.222188\n",
      "epoch 28; iter: 0; batch classifier loss: 3.826909; batch adversarial loss: 1.141162\n",
      "epoch 29; iter: 0; batch classifier loss: 4.037658; batch adversarial loss: 1.233113\n",
      "epoch 30; iter: 0; batch classifier loss: 6.061070; batch adversarial loss: 1.141883\n",
      "epoch 31; iter: 0; batch classifier loss: 4.593065; batch adversarial loss: 1.217220\n",
      "epoch 32; iter: 0; batch classifier loss: 3.470159; batch adversarial loss: 1.125233\n",
      "epoch 33; iter: 0; batch classifier loss: 4.400769; batch adversarial loss: 1.315517\n",
      "epoch 34; iter: 0; batch classifier loss: 4.844215; batch adversarial loss: 1.303745\n",
      "epoch 35; iter: 0; batch classifier loss: 4.195765; batch adversarial loss: 1.146662\n",
      "epoch 36; iter: 0; batch classifier loss: 3.790370; batch adversarial loss: 1.203592\n",
      "epoch 37; iter: 0; batch classifier loss: 4.178542; batch adversarial loss: 1.166773\n",
      "epoch 38; iter: 0; batch classifier loss: 4.280562; batch adversarial loss: 1.168048\n",
      "epoch 39; iter: 0; batch classifier loss: 3.522348; batch adversarial loss: 1.151209\n",
      "epoch 40; iter: 0; batch classifier loss: 3.618731; batch adversarial loss: 1.206980\n",
      "epoch 41; iter: 0; batch classifier loss: 3.152145; batch adversarial loss: 1.179942\n",
      "epoch 42; iter: 0; batch classifier loss: 4.640196; batch adversarial loss: 1.174873\n",
      "epoch 43; iter: 0; batch classifier loss: 3.490190; batch adversarial loss: 1.246245\n",
      "epoch 44; iter: 0; batch classifier loss: 3.425656; batch adversarial loss: 1.270812\n",
      "epoch 45; iter: 0; batch classifier loss: 3.277130; batch adversarial loss: 1.161349\n",
      "epoch 46; iter: 0; batch classifier loss: 4.261777; batch adversarial loss: 1.186123\n",
      "epoch 47; iter: 0; batch classifier loss: 4.736752; batch adversarial loss: 1.261205\n",
      "epoch 48; iter: 0; batch classifier loss: 3.507712; batch adversarial loss: 1.209297\n",
      "epoch 49; iter: 0; batch classifier loss: 3.649407; batch adversarial loss: 1.280727\n"
     ]
    }
   ],
   "source": [
    "# Bias Mitigation Techniques\n",
    "\n",
    "# Pre-processing: Reweighing\n",
    "rw = Reweighing(privileged_groups=[{protected_attribute: 1}], unprivileged_groups=[{protected_attribute: 0}])\n",
    "rw_train_dataset = rw.fit_transform(train_dataset)\n",
    "\n",
    "# In-processing: Adversarial Debiasing\n",
    "sess = tf.Session()\n",
    "adv_debias = AdversarialDebiasing(privileged_groups=[{protected_attribute: 1}],\n",
    "                                  unprivileged_groups=[{protected_attribute: 0}],\n",
    "                                  scope_name='debias',\n",
    "                                  sess=sess)\n",
    "adv_debias.fit(rw_train_dataset)\n",
    "debias_test_dataset = adv_debias.predict(test_dataset)\n",
    "\n",
    "# Post-processing: Calibrated Equal Odds\n",
    "ceop = CalibratedEqOddsPostprocessing(privileged_groups=[{protected_attribute: 1}],\n",
    "                                      unprivileged_groups=[{protected_attribute: 0}])\n",
    "ceop.fit(test_dataset, debias_test_dataset)\n",
    "postprocess_test_dataset = ceop.predict(test_dataset)"
   ]
  },
  {
   "cell_type": "code",
   "execution_count": 11,
   "metadata": {},
   "outputs": [
    {
     "name": "stdout",
     "output_type": "stream",
     "text": [
      "Pre-processing Reweighing - Statistical Parity Difference: -1.1102230246251565e-16\n",
      "In-processing Adversarial Debiasing - Statistical Parity Difference: 0.0\n",
      "Post-processing Equal Odds - Statistical Parity Difference: 0.13307552320291177\n"
     ]
    }
   ],
   "source": [
    "# Evaluate Fairness After Mitigation\n",
    "def evaluate_fairness(dataset, description):\n",
    "    metric = BinaryLabelDatasetMetric(dataset, privileged_groups=[{protected_attribute: 1}], unprivileged_groups=[{protected_attribute: 0}])\n",
    "    print(f\"{description} - Statistical Parity Difference:\", metric.statistical_parity_difference())\n",
    "\n",
    "evaluate_fairness(rw_train_dataset, \"Pre-processing Reweighing\")\n",
    "evaluate_fairness(debias_test_dataset, \"In-processing Adversarial Debiasing\")\n",
    "evaluate_fairness(postprocess_test_dataset, \"Post-processing Equal Odds\")"
   ]
  },
  {
   "cell_type": "markdown",
   "metadata": {},
   "source": [
    "## **Impact of Bias Mitigation Techniques**\n",
    "\n",
    "We apply the following bias mitigation techniques:\n",
    "1. **Pre-processing: Reweighing** - Adjusts dataset weights to mitigate bias.\n",
    "2. **In-processing: Adversarial Debiasing** - Trains a fairness-aware model.\n",
    "3. **Post-processing: Calibrated Equal Odds** - Adjusts predictions to improve fairness.\n",
    "\n",
    "Below, we compare the fairness metrics before and after applying these techniques."
   ]
  },
  {
   "cell_type": "markdown",
   "metadata": {},
   "source": [
    "## **Key Trade-Offs and Recommendations**\n",
    "\n",
    "### **Trade-Offs**:\n",
    "1. **Reweighing**:\n",
    "   - Eliminates Statistical Parity Difference but may affect accuracy due to dataset adjustments.\n",
    "2. **Adversarial Debiasing**:\n",
    "   - Balances fairness and accuracy effectively but requires complex model training.\n",
    "3. **Equal Odds Post-processing**:\n",
    "   - Improves fairness moderately but may not completely eliminate disparities.\n",
    "\n",
    "### **Final Recommendations**:\n",
    "1. **Choose Adversarial Debiasing** for applications requiring a balance of fairness and accuracy.\n",
    "2. **Reweighing** is a lightweight pre-processing option for scenarios prioritizing fairness over accuracy.\n",
    "3. Monitor fairness metrics in production to ensure sustained performance and fairness alignment."
   ]
  }
 ],
 "metadata": {
  "kernelspec": {
   "display_name": "loan-approval-system-with-bias-mitigation-uCPzHwT8-py3.11",
   "language": "python",
   "name": "python3"
  },
  "language_info": {
   "codemirror_mode": {
    "name": "ipython",
    "version": 3
   },
   "file_extension": ".py",
   "mimetype": "text/x-python",
   "name": "python",
   "nbconvert_exporter": "python",
   "pygments_lexer": "ipython3",
   "version": "3.11.6"
  }
 },
 "nbformat": 4,
 "nbformat_minor": 2
}
