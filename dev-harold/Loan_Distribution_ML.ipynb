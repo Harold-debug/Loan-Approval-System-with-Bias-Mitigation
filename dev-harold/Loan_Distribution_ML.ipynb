{
 "cells": [
  {
   "cell_type": "markdown",
   "metadata": {
    "id": "k3QScYCdZoqQ"
   },
   "source": []
  },
  {
   "cell_type": "markdown",
   "metadata": {
    "id": "0a8BUws_YnKJ"
   },
   "source": [
    "FUCK YOU ALL"
   ]
  },
  {
   "cell_type": "code",
   "execution_count": null,
   "metadata": {},
   "outputs": [],
   "source": [
    "import pandas as pd\n",
    "import numpy as np\n",
    "import matplotlib.pyplot as plt\n",
    "import seaborn as sns\n",
    "from sklearn.model_selection import train_test_split\n",
    "from sklearn.preprocessing import LabelEncoder, MinMaxScaler\n",
    "from sklearn.linear_model import LogisticRegression\n",
    "from sklearn.metrics import accuracy_score, classification_report\n",
    "from aif360.datasets import BinaryLabelDataset\n",
    "from aif360.metrics import BinaryLabelDatasetMetric\n",
    "from aif360.algorithms.preprocessing import Reweighing\n",
    "from aif360.algorithms.inprocessing import AdversarialDebiasing\n",
    "from aif360.algorithms.postprocessing import CalibratedEqOddsPostprocessing\n",
    "from sklearn.preprocessing import LabelEncoder\n",
    "import tensorflow.compat.v1 as tf\n",
    "\n",
    "# Disable eager execution for Adversarial Debiasing\n",
    "tf.disable_eager_execution()\n",
    "\n",
    "# Display output in notebook\n",
    "%matplotlib inline"
   ]
  },
  {
   "cell_type": "markdown",
   "metadata": {
    "id": "W7IiqDHPW7pO"
   },
   "source": [
    "# HAROLD CODE"
   ]
  },
  {
   "cell_type": "code",
   "execution_count": null,
   "metadata": {
    "id": "Fot-dLlsY-aI"
   },
   "outputs": [],
   "source": [
    "# Data Visualization\n",
    "\n",
    "def visualize_biases(data):\n",
    "    \"\"\"Generate enhanced visualizations with readable labels and clear category distinctions.\"\"\"\n",
    "    # Replace encoded values with readable labels if necessary\n",
    "    if data['Loan_Status'].dtype in [np.int64, np.float64]:\n",
    "        data['Loan_Status'] = data['Loan_Status'].replace({1: 'Approved', 0: 'Not Approved'})\n",
    "    \n",
    "    if data['Credit_History'].dtype in [np.int64, np.float64]:\n",
    "        data['Credit_History'] = data['Credit_History'].replace({1: 'Has History', 0: 'No History'})\n",
    "\n",
    "    plt.figure(figsize=(16, 20))\n",
    "\n",
    "    # Gender Distribution\n",
    "    plt.subplot(3, 2, 1)\n",
    "    plot = sns.countplot(data=data, x='Gender', hue='Loan_Status', palette='coolwarm')\n",
    "    plt.title('Loan Status by Gender', fontsize=14)\n",
    "    plt.xlabel('Gender', fontsize=12)\n",
    "    plt.ylabel('Count', fontsize=12)\n",
    "    plt.legend(title='Loan Status', labels=['Not Approved', 'Approved'], fontsize=10)\n",
    "    for p in plot.patches:\n",
    "        plot.annotate(f'{int(p.get_height())}', \n",
    "                      (p.get_x() + p.get_width() / 2., p.get_height()), \n",
    "                      ha='center', va='center', fontsize=10, color='black', \n",
    "                      xytext=(0, 5), textcoords='offset points')\n",
    "\n",
    "    # Married Distribution\n",
    "    plt.subplot(3, 2, 2)\n",
    "    plot = sns.countplot(data=data, x='Married', hue='Loan_Status', palette='coolwarm')\n",
    "    plt.title('Loan Status by Marital Status', fontsize=14)\n",
    "    plt.xlabel('Marital Status', fontsize=12)\n",
    "    plt.ylabel('Count', fontsize=12)\n",
    "    plt.legend(title='Loan Status', labels=['Not Approved', 'Approved'], fontsize=10)\n",
    "    for p in plot.patches:\n",
    "        plot.annotate(f'{int(p.get_height())}', \n",
    "                      (p.get_x() + p.get_width() / 2., p.get_height()), \n",
    "                      ha='center', va='center', fontsize=10, color='black', \n",
    "                      xytext=(0, 5), textcoords='offset points')\n",
    "\n",
    "    # Dependents Distribution\n",
    "    plt.subplot(3, 2, 3)\n",
    "    plot = sns.countplot(data=data, x='Dependents', hue='Loan_Status', palette='coolwarm')\n",
    "    plt.title('Loan Status by Number of Dependents', fontsize=14)\n",
    "    plt.xlabel('Number of Dependents', fontsize=12)\n",
    "    plt.ylabel('Count', fontsize=12)\n",
    "    plt.legend(title='Loan Status', labels=['Not Approved', 'Approved'], fontsize=10)\n",
    "    for p in plot.patches:\n",
    "        plot.annotate(f'{int(p.get_height())}', \n",
    "                      (p.get_x() + p.get_width() / 2., p.get_height()), \n",
    "                      ha='center', va='center', fontsize=10, color='black', \n",
    "                      xytext=(0, 5), textcoords='offset points')\n",
    "\n",
    "    # Education Distribution\n",
    "    plt.subplot(3, 2, 4)\n",
    "    plot = sns.countplot(data=data, x='Education', hue='Loan_Status', palette='coolwarm')\n",
    "    plt.title('Loan Status by Education Level', fontsize=14)\n",
    "    plt.xlabel('Education Level', fontsize=12)\n",
    "    plt.ylabel('Count', fontsize=12)\n",
    "    plt.legend(title='Loan Status', labels=['Not Approved', 'Approved'], fontsize=10)\n",
    "    for p in plot.patches:\n",
    "        plot.annotate(f'{int(p.get_height())}', \n",
    "                      (p.get_x() + p.get_width() / 2., p.get_height()), \n",
    "                      ha='center', va='center', fontsize=10, color='black', \n",
    "                      xytext=(0, 5), textcoords='offset points')\n",
    "\n",
    "    # Property Area Distribution\n",
    "    plt.subplot(3, 2, 5)\n",
    "    plot = sns.countplot(data=data, x='Property_Area', hue='Loan_Status', palette='coolwarm')\n",
    "    plt.title('Loan Status by Property Area', fontsize=14)\n",
    "    plt.xlabel('Property Area', fontsize=12)\n",
    "    plt.ylabel('Count', fontsize=12)\n",
    "    plt.legend(title='Loan Status', labels=['Not Approved', 'Approved'], fontsize=10)\n",
    "    for p in plot.patches:\n",
    "        plot.annotate(f'{int(p.get_height())}', \n",
    "                      (p.get_x() + p.get_width() / 2., p.get_height()), \n",
    "                      ha='center', va='center', fontsize=10, color='black', \n",
    "                      xytext=(0, 5), textcoords='offset points')\n",
    "\n",
    "    # Self-Employment Status\n",
    "    plt.subplot(3, 2, 6)\n",
    "    plot = sns.countplot(data=data, x='Self_Employed', hue='Loan_Status', palette='coolwarm')\n",
    "    plt.title('Loan Status by Self-Employment Status', fontsize=14)\n",
    "    plt.xlabel('Self-Employment Status', fontsize=12)\n",
    "    plt.ylabel('Count', fontsize=12)\n",
    "    plt.legend(title='Loan Status', labels=['Not Approved', 'Approved'], fontsize=10)\n",
    "    for p in plot.patches:\n",
    "        plot.annotate(f'{int(p.get_height())}', \n",
    "                      (p.get_x() + p.get_width() / 2., p.get_height()), \n",
    "                      ha='center', va='center', fontsize=10, color='black', \n",
    "                      xytext=(0, 5), textcoords='offset points')\n",
    "\n",
    "    plt.tight_layout()\n",
    "    plt.show()\n",
    "\n",
    "    # Numerical Features Analysis\n",
    "    plt.figure(figsize=(16, 10))\n",
    "\n",
    "    # Applicant Income\n",
    "    plt.subplot(2, 2, 1)\n",
    "    sns.boxplot(data=data, x='Loan_Status', y='ApplicantIncome', palette='coolwarm')\n",
    "    plt.title('Applicant Income Distribution by Loan Status', fontsize=14)\n",
    "    plt.xlabel('Loan Status', fontsize=12)\n",
    "    plt.ylabel('Applicant Income', fontsize=12)\n",
    "\n",
    "    # Coapplicant Income\n",
    "    plt.subplot(2, 2, 2)\n",
    "    sns.boxplot(data=data, x='Loan_Status', y='CoapplicantIncome', palette='coolwarm')\n",
    "    plt.title('Coapplicant Income Distribution by Loan Status', fontsize=14)\n",
    "    plt.xlabel('Loan Status', fontsize=12)\n",
    "    plt.ylabel('Coapplicant Income', fontsize=12)\n",
    "\n",
    "    # Loan Amount\n",
    "    plt.subplot(2, 2, 3)\n",
    "    sns.boxplot(data=data, x='Loan_Status', y='LoanAmount', palette='coolwarm')\n",
    "    plt.title('Loan Amount Distribution by Loan Status', fontsize=14)\n",
    "    plt.xlabel('Loan Status', fontsize=12)\n",
    "    plt.ylabel('Loan Amount', fontsize=12)\n",
    "\n",
    "    # Credit History\n",
    "    plt.subplot(2, 2, 4)\n",
    "    plot = sns.countplot(data=data, x='Credit_History', hue='Loan_Status', palette='coolwarm')\n",
    "    plt.title('Loan Status by Credit History', fontsize=14)\n",
    "    plt.xlabel('Credit History', fontsize=12)\n",
    "    plt.ylabel('Count', fontsize=12)\n",
    "    plt.legend(title='Loan Status', labels=['Not Approved', 'Approved'], fontsize=10)\n",
    "    for p in plot.patches:\n",
    "        plot.annotate(f'{int(p.get_height())}', \n",
    "                      (p.get_x() + p.get_width() / 2., p.get_height()), \n",
    "                      ha='center', va='center', fontsize=10, color='black', \n",
    "                      xytext=(0, 5), textcoords='offset points')\n",
    "\n",
    "    plt.tight_layout()\n",
    "    plt.show()\n",
    "\n",
    "# Visualize biases\n",
    "visualize_biases(data)"
   ]
  },
  {
   "cell_type": "markdown",
   "metadata": {
    "id": "Fj9nEuCLXDIy"
   },
   "source": [
    "# AYMRICK CODE\n"
   ]
  },
  {
   "cell_type": "markdown",
   "metadata": {
    "id": "7biAQXGPJ4ef"
   },
   "source": [
    " *Observation*:\n",
    "  - Male applicants dominate the dataset.\n",
    "  - The approval rate for male applicants appears higher than for female applicants.\n",
    "- *Interpretation*:\n",
    "  - Gender might play a role in loan approval outcomes, which could indicate bias. Further analysis is needed to determine if this difference is justified by other factors.\n"
   ]
  },
  {
   "cell_type": "code",
   "execution_count": null,
   "metadata": {
    "colab": {
     "background_save": true
    },
    "id": "V4LBgGkMwyRI",
    "outputId": "b74644b0-d8ae-4783-a7ad-387852d129af"
   },
   "outputs": [
    {
     "name": "stdout",
     "output_type": "stream",
     "text": [
      "Missing Values After Cleaning:\n",
      " Loan_ID              0\n",
      "Gender               0\n",
      "Married              0\n",
      "Dependents           0\n",
      "Education            0\n",
      "Self_Employed        0\n",
      "ApplicantIncome      0\n",
      "CoapplicantIncome    0\n",
      "LoanAmount           0\n",
      "Loan_Amount_Term     0\n",
      "Credit_History       0\n",
      "Property_Area        0\n",
      "Loan_Status          0\n",
      "dtype: int64\n"
     ]
    },
    {
     "name": "stderr",
     "output_type": "stream",
     "text": [
      "<ipython-input-3-fcada017789e>:22: FutureWarning: A value is trying to be set on a copy of a DataFrame or Series through chained assignment using an inplace method.\n",
      "The behavior will change in pandas 3.0. This inplace method will never work because the intermediate object on which we are setting values always behaves as a copy.\n",
      "\n",
      "For example, when doing 'df[col].method(value, inplace=True)', try using 'df.method({col: value}, inplace=True)' or df[col] = df[col].method(value) instead, to perform the operation inplace on the original object.\n",
      "\n",
      "\n",
      "  data['Gender'].fillna(data['Gender'].mode()[0], inplace=True)\n",
      "<ipython-input-3-fcada017789e>:23: FutureWarning: A value is trying to be set on a copy of a DataFrame or Series through chained assignment using an inplace method.\n",
      "The behavior will change in pandas 3.0. This inplace method will never work because the intermediate object on which we are setting values always behaves as a copy.\n",
      "\n",
      "For example, when doing 'df[col].method(value, inplace=True)', try using 'df.method({col: value}, inplace=True)' or df[col] = df[col].method(value) instead, to perform the operation inplace on the original object.\n",
      "\n",
      "\n",
      "  data['Married'].fillna(data['Married'].mode()[0], inplace=True)\n",
      "<ipython-input-3-fcada017789e>:24: FutureWarning: A value is trying to be set on a copy of a DataFrame or Series through chained assignment using an inplace method.\n",
      "The behavior will change in pandas 3.0. This inplace method will never work because the intermediate object on which we are setting values always behaves as a copy.\n",
      "\n",
      "For example, when doing 'df[col].method(value, inplace=True)', try using 'df.method({col: value}, inplace=True)' or df[col] = df[col].method(value) instead, to perform the operation inplace on the original object.\n",
      "\n",
      "\n",
      "  data['Dependents'].fillna(data['Dependents'].mode()[0], inplace=True)\n",
      "<ipython-input-3-fcada017789e>:25: FutureWarning: A value is trying to be set on a copy of a DataFrame or Series through chained assignment using an inplace method.\n",
      "The behavior will change in pandas 3.0. This inplace method will never work because the intermediate object on which we are setting values always behaves as a copy.\n",
      "\n",
      "For example, when doing 'df[col].method(value, inplace=True)', try using 'df.method({col: value}, inplace=True)' or df[col] = df[col].method(value) instead, to perform the operation inplace on the original object.\n",
      "\n",
      "\n",
      "  data['Self_Employed'].fillna(data['Self_Employed'].mode()[0], inplace=True)\n",
      "<ipython-input-3-fcada017789e>:26: FutureWarning: A value is trying to be set on a copy of a DataFrame or Series through chained assignment using an inplace method.\n",
      "The behavior will change in pandas 3.0. This inplace method will never work because the intermediate object on which we are setting values always behaves as a copy.\n",
      "\n",
      "For example, when doing 'df[col].method(value, inplace=True)', try using 'df.method({col: value}, inplace=True)' or df[col] = df[col].method(value) instead, to perform the operation inplace on the original object.\n",
      "\n",
      "\n",
      "  data['LoanAmount'].fillna(data['LoanAmount'].median(), inplace=True)\n",
      "<ipython-input-3-fcada017789e>:27: FutureWarning: A value is trying to be set on a copy of a DataFrame or Series through chained assignment using an inplace method.\n",
      "The behavior will change in pandas 3.0. This inplace method will never work because the intermediate object on which we are setting values always behaves as a copy.\n",
      "\n",
      "For example, when doing 'df[col].method(value, inplace=True)', try using 'df.method({col: value}, inplace=True)' or df[col] = df[col].method(value) instead, to perform the operation inplace on the original object.\n",
      "\n",
      "\n",
      "  data['Loan_Amount_Term'].fillna(data['Loan_Amount_Term'].mode()[0], inplace=True)\n",
      "<ipython-input-3-fcada017789e>:28: FutureWarning: A value is trying to be set on a copy of a DataFrame or Series through chained assignment using an inplace method.\n",
      "The behavior will change in pandas 3.0. This inplace method will never work because the intermediate object on which we are setting values always behaves as a copy.\n",
      "\n",
      "For example, when doing 'df[col].method(value, inplace=True)', try using 'df.method({col: value}, inplace=True)' or df[col] = df[col].method(value) instead, to perform the operation inplace on the original object.\n",
      "\n",
      "\n",
      "  data['Credit_History'].fillna(data['Credit_History'].mode()[0], inplace=True)\n"
     ]
    }
   ],
   "source": [
    "## *1. Loan Status by Gender*\n",
    "import pandas as pd\n",
    "import matplotlib.pyplot as plt\n",
    "\n",
    "# Load the dataset\n",
    "data = pd.read_csv('/content/project-data.csv')\n",
    "\n",
    "\n",
    "data_info = {\n",
    "    \"Shape\": data.shape,\n",
    "    \"Columns\": data.columns.tolist(),\n",
    "    \"Data Types\": data.dtypes.to_dict(),\n",
    "    \"Missing Values\": data.isnull().sum().to_dict(),\n",
    "    \"First Few Rows\": data.head().to_dict()\n",
    "}\n",
    "\n",
    "data_info\n",
    "\n",
    "# 1. Clean the data\n",
    "def clean_data(data):\n",
    "    \"\"\"Handle missing values and standardize categorical data.\"\"\"\n",
    "    # Fill missing values\n",
    "    data['Gender'].fillna(data['Gender'].mode()[0], inplace=True)\n",
    "    data['Married'].fillna(data['Married'].mode()[0], inplace=True)\n",
    "    data['Dependents'].fillna(data['Dependents'].mode()[0], inplace=True)\n",
    "    data['Self_Employed'].fillna(data['Self_Employed'].mode()[0], inplace=True)\n",
    "    data['LoanAmount'].fillna(data['LoanAmount'].median(), inplace=True)\n",
    "    data['Loan_Amount_Term'].fillna(data['Loan_Amount_Term'].mode()[0], inplace=True)\n",
    "    data['Credit_History'].fillna(data['Credit_History'].mode()[0], inplace=True)\n",
    "\n",
    "    # Standardize 'Dependents' column\n",
    "    data['Dependents'] = data['Dependents'].replace({'3+': '3+'})\n",
    "    return data\n",
    "\n",
    "# Clean the data\n",
    "cleaned_data = clean_data(data)\n",
    "# Display cleaned data info\n",
    "print(\"Missing Values After Cleaning:\\n\", cleaned_data.isnull().sum())\n",
    "\n",
    "# 2. Preprocess the data\n",
    "def preprocess_data(data):\n",
    "    \"\"\"Encode categorical features and normalize numerical features.\"\"\"\n",
    "    # Encode categorical variables\n",
    "    label_encoders = {}\n",
    "    categorical_cols = ['Gender', 'Married', 'Dependents', 'Education', 'Self_Employed', 'Property_Area', 'Loan_Status']\n",
    "    for col in categorical_cols:\n",
    "        le = LabelEncoder()\n",
    "        data[col] = le.fit_transform(data[col])\n",
    "        label_encoders[col] = le\n",
    "\n",
    "    # Normalize numerical features\n",
    "    scaler = MinMaxScaler()\n",
    "    numerical_cols = ['ApplicantIncome', 'CoapplicantIncome', 'LoanAmount']\n",
    "    data[numerical_cols] = scaler.fit_transform(data[numerical_cols])\n",
    "\n",
    "    return data, label_encoders\n",
    "\n",
    "# Preprocess the data\n",
    "preprocessed_data, label_encoders = preprocess_data(cleaned_data)\n",
    "\n",
    "# Sensitive attributes for fairness analysis\n",
    "sensitive_attributes = ['Gender', 'Married', 'Education', 'Self_Employed', 'Property_Area', 'Dependents']\n",
    "\n",
    "# Summary of data preparation\n",
    "print(\"Data preparation completed.\")\n",
    "print(f\"Sensitive attributes: {sensitive_attributes}\")\n",
    "\n"
   ]
  },
  {
   "cell_type": "markdown",
   "metadata": {
    "id": "gEMe3kuzXIXx"
   },
   "source": [
    "# AYMARD CODE"
   ]
  },
  {
   "cell_type": "code",
   "execution_count": null,
   "metadata": {
    "id": "6ogrScR4YUdb"
   },
   "outputs": [],
   "source": []
  },
  {
   "cell_type": "markdown",
   "metadata": {
    "id": "EjZQRFS8XI04"
   },
   "source": [
    "# HERMES CODE"
   ]
  },
  {
   "cell_type": "markdown",
   "metadata": {
    "id": "-07vScPgXJIZ"
   },
   "source": [
    "# RAMSES CODE\n",
    "\n"
   ]
  },
  {
   "cell_type": "code",
   "execution_count": null,
   "metadata": {
    "id": "phzB5JCjJiH7"
   },
   "outputs": [],
   "source": []
  }
 ],
 "metadata": {
  "colab": {
   "provenance": []
  },
  "kernelspec": {
   "display_name": "Python 3",
   "name": "python3"
  },
  "language_info": {
   "name": "python"
  }
 },
 "nbformat": 4,
 "nbformat_minor": 0
}
